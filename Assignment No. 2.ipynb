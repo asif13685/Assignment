{
 "cells": [
  {
   "cell_type": "markdown",
   "id": "b7a903fe",
   "metadata": {},
   "source": [
    "# Assigment No. 2"
   ]
  },
  {
   "cell_type": "markdown",
   "id": "43e6ad63",
   "metadata": {},
   "source": [
    "Scenario 1: Grocery Shopping List You are creating a program to manage a grocery shopping list. Users should be able to add items,remove items, and display the current list."
   ]
  },
  {
   "cell_type": "code",
   "execution_count": 1,
   "id": "1dce07e4",
   "metadata": {},
   "outputs": [
    {
     "name": "stdout",
     "output_type": "stream",
     "text": [
      "\n",
      "Menu:\n",
      "1. Add Item\n",
      "2. Remove Item\n",
      "3. Display List\n",
      "4. Exit\n",
      "Enter your choice (1/2/3/4): 4\n",
      "Exiting the program.\n"
     ]
    }
   ],
   "source": [
    "class GroceryList:\n",
    "    def __init__(self):\n",
    "        self.items = []\n",
    "\n",
    "    def add_item(self, item):\n",
    "        self.items.append(item)\n",
    "        print(f\"{item} added to the list.\")\n",
    "\n",
    "    def remove_item(self, item):\n",
    "        if item in self.items:\n",
    "            self.items.remove(item)\n",
    "            print(f\"{item} removed from the list.\")\n",
    "        else:\n",
    "            print(f\"{item} not found in the list.\")\n",
    "\n",
    "    def display_list(self):\n",
    "        if not self.items:\n",
    "            print(\"The list is empty.\")\n",
    "        else:\n",
    "            print(\"Grocery List:\")\n",
    "            for item in self.items:\n",
    "                print(f\"- {item}\")\n",
    "\n",
    "# Example Usage\n",
    "grocery_list = GroceryList()\n",
    "\n",
    "while True:\n",
    "    print(\"\\nMenu:\")\n",
    "    print(\"1. Add Item\")\n",
    "    print(\"2. Remove Item\")\n",
    "    print(\"3. Display List\")\n",
    "    print(\"4. Exit\")\n",
    "\n",
    "    choice = input(\"Enter your choice (1/2/3/4): \")\n",
    "\n",
    "    if choice == \"1\":\n",
    "        item = input(\"Enter the item to add: \")\n",
    "        grocery_list.add_item(item)\n",
    "    elif choice == \"2\":\n",
    "        item = input(\"Enter the item to remove: \")\n",
    "        grocery_list.remove_item(item)\n",
    "    elif choice == \"3\":\n",
    "        grocery_list.display_list()\n",
    "    elif choice == \"4\":\n",
    "        print(\"Exiting the program.\")\n",
    "        break\n",
    "    else:\n",
    "        print(\"Invalid choice. Please enter a valid option.\")\n"
   ]
  },
  {
   "cell_type": "markdown",
   "id": "9ef600ea",
   "metadata": {},
   "source": [
    "Scenario 2: Student Grades You are managing student grades using a dictionary. You need to calculate the average grade.take atleast 5 Students grades & then calculate the average."
   ]
  },
  {
   "cell_type": "code",
   "execution_count": 1,
   "id": "3b19ce7f",
   "metadata": {},
   "outputs": [
    {
     "name": "stdout",
     "output_type": "stream",
     "text": [
      "Enter student name: Asif\n",
      "Enter grade for Asif: 76\n",
      "Enter student name: Asim\n",
      "Enter grade for Asim: 45\n",
      "Enter student name: Sohail\n",
      "Enter grade for Sohail: 76\n",
      "Enter student name: Atif\n",
      "Enter grade for Atif: 78\n",
      "Enter student name: Asad\n",
      "Enter grade for Asad: 98\n",
      "\n",
      "Student Grades:\n",
      "Asif: 76.0\n",
      "Asim: 45.0\n",
      "Sohail: 76.0\n",
      "Atif: 78.0\n",
      "Asad: 98.0\n",
      "\n",
      "Average Grade: 74.60\n"
     ]
    }
   ],
   "source": [
    "def calculate_average(grades):\n",
    "    total = sum(grades)\n",
    "    average = total / len(grades)\n",
    "    return average\n",
    "\n",
    "# Initialize an empty dictionary to store student grades\n",
    "student_grades = {}\n",
    "\n",
    "# Input grades for at least 5 students\n",
    "while len(student_grades) < 5:\n",
    "    student_name = input(\"Enter student name: \")\n",
    "    try:\n",
    "        # Input grade as a float, assuming a decimal value for flexibility\n",
    "        grade = float(input(\"Enter grade for {}: \".format(student_name)))\n",
    "        # Add the grade to the dictionary\n",
    "        student_grades[student_name] = grade\n",
    "    except ValueError:\n",
    "        print(\"Invalid input. Please enter a numeric grade.\")\n",
    "\n",
    "# Display the grades\n",
    "print(\"\\nStudent Grades:\")\n",
    "for student, grade in student_grades.items():\n",
    "    print(f\"{student}: {grade}\")\n",
    "\n",
    "# Calculate and display the average grade\n",
    "grades_list = list(student_grades.values())\n",
    "average_grade = calculate_average(grades_list)\n",
    "print(\"\\nAverage Grade: {:.2f}\".format(average_grade))\n"
   ]
  },
  {
   "cell_type": "markdown",
   "id": "33dc3fc9",
   "metadata": {},
   "source": [
    "Scenario 3: Password Strength Checker\n",
    "You are creating a program to check the strength of passwords based on certain criteria.\n",
    "• Password should be at least 8 characters long.\n",
    "• Password should contain at least one digit.\n",
    "• Password should contain at least one letter.\n"
   ]
  },
  {
   "cell_type": "code",
   "execution_count": 2,
   "id": "6fd32e73",
   "metadata": {},
   "outputs": [
    {
     "name": "stdout",
     "output_type": "stream",
     "text": [
      "Enter your password: asif4545\n",
      "Strong: Password meets all criteria.\n"
     ]
    }
   ],
   "source": [
    "def check_password_strength(password):\n",
    "    # Check if the password is at least 8 characters long\n",
    "    if len(password) < 8:\n",
    "        return \"Weak: Password should be at least 8 characters long.\"\n",
    "\n",
    "    # Check if the password contains at least one digit\n",
    "    if not any(char.isdigit() for char in password):\n",
    "        return \"Weak: Password should contain at least one digit.\"\n",
    "\n",
    "    # Check if the password contains at least one letter\n",
    "    if not any(char.isalpha() for char in password):\n",
    "        return \"Weak: Password should contain at least one letter.\"\n",
    "\n",
    "    # If all criteria are met, the password is considered strong\n",
    "    return \"Strong: Password meets all criteria.\"\n",
    "\n",
    "# Example Usage\n",
    "password = input(\"Enter your password: \")\n",
    "result = check_password_strength(password)\n",
    "print(result)\n"
   ]
  },
  {
   "cell_type": "markdown",
   "id": "58b7dbaa",
   "metadata": {},
   "source": [
    "Scenario 04: Voting System (Annual Employee Recognition Awards)\n",
    "You are developing a simple voting system for a contest. Users can vote for their Favorite option, and \n",
    "you need to count the votes.\n",
    "In a corporate setting, the HR department is organizing the Annual Employee Recognition Awards, \n",
    "where employees get the opportunity to vote for their colleagues nominated in different categories. \n",
    "The HR team has decided to use a simple voting system to collect and tally votes for the nominees in \n",
    "various award categories. The script provided will be utilized for this purpose.\n",
    "Candidates: The nominees for different award categories, such as \"Employee of the Year,\" \"Team \n",
    "Player of the Year,\" and \"Innovation Award,\" are represented by the list of candidates: 'Candidate A,' \n",
    "'Candidate B,' and 'Candidate C.'\n",
    "Voting Process: Employees are requested to input the number of voters participating in the awards. \n",
    "Each voter is presented with a list of nominees, and they can vote for their preferred candidate by \n",
    "entering the corresponding number.\n",
    "Validation: The script ensures that the entered vote is within the valid range of candidates. If an \n",
    "employee enters an invalid vote, the system prompts them to choose a valid candidate.\n",
    "Recording Votes: The script records each vote for the selected candidate and prints a confirmation \n",
    "message indicating that the vote has been recorded.\n",
    "Results Display: Once all votes are collected, the system displays the voting results, showing the \n",
    "number of votes each candidate received in each category.\n",
    "Award Winners: Based on the voting results, the HR department can identify the winners for each \n",
    "award category and proceed with recognizing and rewarding the selected employees during the \n",
    "Annual Employee Recognition Ceremony.\n",
    "This script provides a straightforward and transparent way for employees to participate in the \n",
    "recognition process, fostering a sense of engagement and community within the organization. The \n",
    "HR team can use the collected votes to acknowledge and appreciate the efforts of outstanding \n",
    "employees in various aspects of their work"
   ]
  },
  {
   "cell_type": "code",
   "execution_count": null,
   "id": "b3d35a27",
   "metadata": {},
   "outputs": [],
   "source": [
    "class VotingSystem:\n",
    "    def __init__(self, candidates):\n",
    "        self.candidates = candidates\n",
    "        self.votes = {candidate: 0 for candidate in candidates}\n",
    "\n",
    "    def display_candidates(self):\n",
    "        print(\"\\nNominees:\")\n",
    "        for i, candidate in enumerate(self.candidates, start=1):\n",
    "            print(f\"{i}. {candidate}\")\n",
    "\n",
    "    def vote(self, voter_count):\n",
    "        for _ in range(voter_count):\n",
    "            self.display_candidates()\n",
    "            try:\n",
    "                vote_index = int(input(\"\\nEnter the number corresponding to your preferred candidate: \"))\n",
    "                if 1 <= vote_index <= len(self.candidates):\n",
    "                    selected_candidate = self.candidates[vote_index - 1]\n",
    "                    self.votes[selected_candidate] += 1\n",
    "                    print(f\"Vote recorded for {selected_candidate}!\\n\")\n",
    "                else:\n",
    "                    print(\"Invalid vote. Please choose a valid candidate.\\n\")\n",
    "            except ValueError:\n",
    "                print(\"Invalid input. Please enter a number.\\n\")\n",
    "\n",
    "    def display_results(self):\n",
    "        print(\"\\nVoting Results:\")\n",
    "        for candidate, votes in self.votes.items():\n",
    "            print(f\"{candidate}: {votes} votes\")\n",
    "\n",
    "    def announce_winners(self):\n",
    "        print(\"\\nAward Winners:\")\n",
    "        for category, winner in self.votes.items():\n",
    "            print(f\"{category}: {max(winner, key=self.votes.get)}\")\n",
    "\n",
    "# Example Usage\n",
    "candidates_list = ['Employee of the Year', 'Team Player of the Year', 'Innovation Award']\n",
    "voting_system = VotingSystem(candidates_list)\n",
    "\n",
    "voter_count = int(input(\"Enter the number of voters participating in the awards: \"))\n",
    "voting_system.vote(voter_count)\n",
    "\n",
    "voting_system.display_results()\n",
    "voting_system.announce_winners()\n"
   ]
  }
 ],
 "metadata": {
  "kernelspec": {
   "display_name": "Python 3 (ipykernel)",
   "language": "python",
   "name": "python3"
  },
  "language_info": {
   "codemirror_mode": {
    "name": "ipython",
    "version": 3
   },
   "file_extension": ".py",
   "mimetype": "text/x-python",
   "name": "python",
   "nbconvert_exporter": "python",
   "pygments_lexer": "ipython3",
   "version": "3.11.5"
  }
 },
 "nbformat": 4,
 "nbformat_minor": 5
}
