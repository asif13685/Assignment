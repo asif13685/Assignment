{
 "cells": [
  {
   "cell_type": "markdown",
   "id": "cf6b323b",
   "metadata": {},
   "source": [
    "Q.1 A company decided to give bonus of 5% to employee if his/her year of service is more than 5 years. Ask user for his salary and year of\n",
    "service and print the net bonus amount."
   ]
  },
  {
   "cell_type": "code",
   "execution_count": 2,
   "id": "1cf1788f",
   "metadata": {},
   "outputs": [
    {
     "name": "stdout",
     "output_type": "stream",
     "text": [
      "Enter your salary: 40000\n",
      "Enter your years of service: 7\n",
      "Congratulations! You are eligible for a 5% bonus.\n",
      "Net Bonus Amount: Rs2000.00\n"
     ]
    }
   ],
   "source": [
    "# Get user input for salary and years of service\n",
    "salary = float(input(\"Enter your salary: \"))\n",
    "years_of_service = int(input(\"Enter your years of service: \"))\n",
    "\n",
    "# Check if the employee is eligible for the bonus\n",
    "if years_of_service > 5:\n",
    "    # Calculate the bonus amount (5% of the salary)\n",
    "    bonus_percentage = 5\n",
    "    bonus_amount = (bonus_percentage / 100) * salary\n",
    "\n",
    "    # Print the net bonus amount\n",
    "    print(f\"Congratulations! You are eligible for a {bonus_percentage}% bonus.\")\n",
    "    print(f\"Net Bonus Amount: Rs{bonus_amount:.2f}\")\n",
    "else:\n",
    "    print(\"Sorry, you are not eligible for a bonus.\")\n"
   ]
  },
  {
   "cell_type": "markdown",
   "id": "f34b09d3",
   "metadata": {},
   "source": [
    "Q.2 Write a program to check whether a person is eligible for voting or not. (accept age from user) if age is greater than 17 eligible otherwise not\n",
    "eligible"
   ]
  },
  {
   "cell_type": "code",
   "execution_count": 3,
   "id": "47d6a454",
   "metadata": {},
   "outputs": [
    {
     "name": "stdout",
     "output_type": "stream",
     "text": [
      "Enter your age: 20\n",
      "Congratulations! You are eligible for voting.\n"
     ]
    }
   ],
   "source": [
    "# Get user input for age\n",
    "age = int(input(\"Enter your age: \"))\n",
    "\n",
    "# Check eligibility for voting\n",
    "if age > 17:\n",
    "    print(\"Congratulations! You are eligible for voting.\")\n",
    "else:\n",
    "    print(\"Sorry, you are not eligible for voting.\")\n"
   ]
  },
  {
   "cell_type": "markdown",
   "id": "4a1ed675",
   "metadata": {},
   "source": [
    "Q.3 Write a program to check whether a number entered by user is even or odd."
   ]
  },
  {
   "cell_type": "code",
   "execution_count": 6,
   "id": "488f993a",
   "metadata": {},
   "outputs": [
    {
     "name": "stdout",
     "output_type": "stream",
     "text": [
      "Enter a number: 5\n",
      "5 is an odd number.\n"
     ]
    }
   ],
   "source": [
    "# Get user input for a number\n",
    "number = int(input(\"Enter a number: \"))\n",
    "\n",
    "# Check if the number is even or odd\n",
    "if number % 2 == 0:\n",
    "    print(f\"{number} is an even number.\")\n",
    "else:\n",
    "    print(f\"{number} is an odd number.\")\n"
   ]
  },
  {
   "cell_type": "markdown",
   "id": "998025a0",
   "metadata": {},
   "source": [
    "Q.4 Write a program to check whether a number is divisible by 7 or not. Show Answer"
   ]
  },
  {
   "cell_type": "code",
   "execution_count": 7,
   "id": "e0be4595",
   "metadata": {},
   "outputs": [
    {
     "name": "stdout",
     "output_type": "stream",
     "text": [
      "Enter a number: 6\n",
      "6 is not divisible by 7.\n"
     ]
    }
   ],
   "source": [
    "# Get user input for a number\n",
    "number = int(input(\"Enter a number: \"))\n",
    "\n",
    "# Check if the number is divisible by 7\n",
    "if number % 7 == 0:\n",
    "    print(f\"{number} is divisible by 7.\")\n",
    "else:\n",
    "    print(f\"{number} is not divisible by 7.\")\n"
   ]
  },
  {
   "cell_type": "markdown",
   "id": "6794566e",
   "metadata": {},
   "source": [
    "Q.5 Write a program to display \"Hello\" if a number entered by user is a multiple of five , otherwise print \"Bye\"."
   ]
  },
  {
   "cell_type": "code",
   "execution_count": 8,
   "id": "1d241690",
   "metadata": {},
   "outputs": [
    {
     "name": "stdout",
     "output_type": "stream",
     "text": [
      "Enter a number: 7\n",
      "Bye\n"
     ]
    }
   ],
   "source": [
    "# Get user input for a number\n",
    "number = int(input(\"Enter a number: \"))\n",
    "\n",
    "# Check if the number is a multiple of five\n",
    "if number % 5 == 0:\n",
    "    print(\"Hello\")\n",
    "else:\n",
    "    print(\"Bye\")\n"
   ]
  },
  {
   "cell_type": "markdown",
   "id": "eba0f5a2",
   "metadata": {},
   "source": [
    "Q.6 Write a program to display the last digit of a number.\n"
   ]
  },
  {
   "cell_type": "code",
   "execution_count": 9,
   "id": "389c0cd0",
   "metadata": {},
   "outputs": [
    {
     "name": "stdout",
     "output_type": "stream",
     "text": [
      "Enter a number: 67\n",
      "The last digit of 67 is: 7\n"
     ]
    }
   ],
   "source": [
    "# Get user input for a number\n",
    "number = int(input(\"Enter a number: \"))\n",
    "\n",
    "# Extract the last digit\n",
    "last_digit = number % 10\n",
    "\n",
    "# Display the last digit\n",
    "print(f\"The last digit of {number} is: {last_digit}\")\n"
   ]
  },
  {
   "cell_type": "markdown",
   "id": "72b92c28",
   "metadata": {},
   "source": [
    "Q.7 Write a program to check whether the last digit of a number( entered by user ) is divisible by 3 or not."
   ]
  },
  {
   "cell_type": "code",
   "execution_count": 12,
   "id": "fd7ef5b7",
   "metadata": {},
   "outputs": [
    {
     "name": "stdout",
     "output_type": "stream",
     "text": [
      "Enter a number: 45\n",
      "The last digit (5) is not divisible by 3.\n"
     ]
    }
   ],
   "source": [
    "# Get user input for a number\n",
    "number = int(input(\"Enter a number: \"))\n",
    "\n",
    "# Extract the last digit\n",
    "last_digit = number % 10\n",
    "\n",
    "# Check if the last digit is divisible by 3\n",
    "if last_digit % 3 == 0:\n",
    "    print(f\"The last digit ({last_digit}) is divisible by 3.\")\n",
    "else:\n",
    "    print(f\"The last digit ({last_digit}) is not divisible by 3.\")\n"
   ]
  },
  {
   "cell_type": "markdown",
   "id": "0e7a5fad",
   "metadata": {},
   "source": [
    "Q.8 Take values of length and breadth of a rectangle from user and print if it is square or rectangle."
   ]
  },
  {
   "cell_type": "code",
   "execution_count": 13,
   "id": "6b3c1032",
   "metadata": {},
   "outputs": [
    {
     "name": "stdout",
     "output_type": "stream",
     "text": [
      "Enter the length of the rectangle: 66\n",
      "Enter the breadth of the rectangle: 78\n",
      "It is a rectangle.\n"
     ]
    }
   ],
   "source": [
    "# Get user input for length and breadth\n",
    "length = float(input(\"Enter the length of the rectangle: \"))\n",
    "breadth = float(input(\"Enter the breadth of the rectangle: \"))\n",
    "\n",
    "# Check if it is a square or a rectangle\n",
    "if length == breadth:\n",
    "    print(\"It is a square.\")\n",
    "else:\n",
    "    print(\"It is a rectangle.\")\n"
   ]
  },
  {
   "cell_type": "markdown",
   "id": "fd4e97df",
   "metadata": {},
   "source": [
    "Q.9 Take two int values from user and print greatest among them.\n"
   ]
  },
  {
   "cell_type": "code",
   "execution_count": 14,
   "id": "c34dafc1",
   "metadata": {},
   "outputs": [
    {
     "name": "stdout",
     "output_type": "stream",
     "text": [
      "Enter the first integer: 33\n",
      "Enter the second integer: 43\n",
      "The greatest number is: 43\n"
     ]
    }
   ],
   "source": [
    "# Get user input for two integers\n",
    "num1 = int(input(\"Enter the first integer: \"))\n",
    "num2 = int(input(\"Enter the second integer: \"))\n",
    "\n",
    "# Determine the greatest among the two\n",
    "if num1 > num2:\n",
    "    print(f\"The greatest number is: {num1}\")\n",
    "elif num1 < num2:\n",
    "    print(f\"The greatest number is: {num2}\")\n",
    "else:\n",
    "    print(\"Both numbers are equal.\")\n"
   ]
  },
  {
   "cell_type": "markdown",
   "id": "b95333e1",
   "metadata": {},
   "source": [
    "Q.10 A shop will give discount of 10% if the cost of purchased quantity is more than 1000. Ask user for quantity Suppose, one unit will cost 100.\n",
    "Judge and print total cost for user."
   ]
  },
  {
   "cell_type": "code",
   "execution_count": 17,
   "id": "0764da5c",
   "metadata": {},
   "outputs": [
    {
     "name": "stdout",
     "output_type": "stream",
     "text": [
      "Enter the quantity: 45\n",
      "Congratulations! You have received a 10% discount.\n",
      "Total cost after discount: Rs.4050.00\n"
     ]
    }
   ],
   "source": [
    "# Get user input for the quantity\n",
    "quantity = int(input(\"Enter the quantity: \"))\n",
    "\n",
    "# Assuming one unit costs 100\n",
    "unit_cost = 100\n",
    "\n",
    "# Calculate the total cost\n",
    "total_cost = quantity * unit_cost\n",
    "\n",
    "# Apply a 10% discount if the total cost is more than 1000\n",
    "if total_cost > 1000:\n",
    "    discount = 0.10 * total_cost\n",
    "    total_cost -= discount\n",
    "    print(f\"Congratulations! You have received a 10% discount.\")\n",
    "    print(f\"Total cost after discount: Rs.{total_cost:.2f}\")\n",
    "else:\n",
    "    print(f\"Total cost: Rs.{total_cost:.2f}\")\n"
   ]
  },
  {
   "cell_type": "markdown",
   "id": "12283b13",
   "metadata": {},
   "source": [
    "Q.11 A school has following rules for grading system:\n",
    "a. Below 25 - F\n",
    "b. 25 to 45 - E\n",
    "c. 45 to 50 - D\n",
    "d. 50 to 60 - C\n",
    "e. 60 to 80 - B\n",
    "f. Above 80 - A\n",
    "Ask user to enter marks and print the corresponding grade"
   ]
  },
  {
   "cell_type": "code",
   "execution_count": 18,
   "id": "cf6c3c32",
   "metadata": {},
   "outputs": [
    {
     "name": "stdout",
     "output_type": "stream",
     "text": [
      "Enter the marks: 88\n",
      "Grade: A\n"
     ]
    }
   ],
   "source": [
    "# Get user input for marks\n",
    "marks = float(input(\"Enter the marks: \"))\n",
    "\n",
    "# Determine the corresponding grade based on the grading system\n",
    "if marks < 25:\n",
    "    grade = 'F'\n",
    "elif marks <= 45:\n",
    "    grade = 'E'\n",
    "elif marks <= 50:\n",
    "    grade = 'D'\n",
    "elif marks <= 60:\n",
    "    grade = 'C'\n",
    "elif marks <= 80:\n",
    "    grade = 'B'\n",
    "else:\n",
    "    grade = 'A'\n",
    "\n",
    "# Print the corresponding grade\n",
    "print(f\"Grade: {grade}\")\n"
   ]
  },
  {
   "cell_type": "markdown",
   "id": "ef989c4d",
   "metadata": {},
   "source": [
    "Q.12 A student will not be allowed to sit in exam if his/her attendence is less than 75%.\n",
    "Take following input from user\n",
    "Number of classes held\n",
    "Number of classes attended.\n",
    "And print\n",
    "percentage of class attended\n",
    "Is student is allowed to sit in exam or not."
   ]
  },
  {
   "cell_type": "code",
   "execution_count": 19,
   "id": "771b4a4a",
   "metadata": {},
   "outputs": [
    {
     "name": "stdout",
     "output_type": "stream",
     "text": [
      "Enter the number of classes held: 5\n",
      "Enter the number of classes attended: 4\n",
      "Percentage of classes attended: 80.00%\n",
      "The student is allowed to sit in the exam.\n"
     ]
    }
   ],
   "source": [
    "# Get user input for the number of classes held and attended\n",
    "classes_held = int(input(\"Enter the number of classes held: \"))\n",
    "classes_attended = int(input(\"Enter the number of classes attended: \"))\n",
    "\n",
    "# Calculate the percentage of classes attended\n",
    "attendance_percentage = (classes_attended / classes_held) * 100\n",
    "\n",
    "# Print the percentage of classes attended\n",
    "print(f\"Percentage of classes attended: {attendance_percentage:.2f}%\")\n",
    "\n",
    "# Check if the student is allowed to sit in the exam\n",
    "if attendance_percentage >= 75:\n",
    "    print(\"The student is allowed to sit in the exam.\")\n",
    "else:\n",
    "    print(\"Sorry, the student is not allowed to sit in the exam due to insufficient attendance.\")\n"
   ]
  },
  {
   "cell_type": "markdown",
   "id": "51976360",
   "metadata": {},
   "source": [
    "Q.13 Modify the above question to allow student to sit if he/she has medical cause. Ask user if he/she has medical cause or not ( 'Y' or 'N' ) and\n",
    "print accordingly."
   ]
  },
  {
   "cell_type": "code",
   "execution_count": 2,
   "id": "247cb95b",
   "metadata": {},
   "outputs": [
    {
     "name": "stdout",
     "output_type": "stream",
     "text": [
      "Enter the number of classes held: 5\n",
      "Enter the number of classes attended: 3\n",
      "Percentage of classes attended: 60.00%\n",
      "Do you have a medical cause? (Enter 'Y' or 'N'): N\n",
      "Sorry, the student is not allowed to sit in the exam due to insufficient attendance.\n"
     ]
    }
   ],
   "source": [
    "# Get user input for the number of classes held and attended\n",
    "classes_held = int(input(\"Enter the number of classes held: \"))\n",
    "classes_attended = int(input(\"Enter the number of classes attended: \"))\n",
    "\n",
    "# Calculate the percentage of classes attended\n",
    "attendance_percentage = (classes_attended / classes_held) * 100\n",
    "\n",
    "# Print the percentage of classes attended\n",
    "print(f\"Percentage of classes attended: {attendance_percentage:.2f}%\")\n",
    "\n",
    "# Ask user if there is a medical cause\n",
    "medical_cause = input(\"Do you have a medical cause? (Enter 'Y' or 'N'): \")\n",
    "\n",
    "# Check if the student is allowed to sit in the exam considering the medical cause\n",
    "if attendance_percentage >= 75 or medical_cause.upper() == 'Y':\n",
    "    print(\"The student is allowed to sit in the exam.\")\n",
    "else:\n",
    "    print(\"Sorry, the student is not allowed to sit in the exam due to insufficient attendance.\")\n"
   ]
  },
  {
   "cell_type": "markdown",
   "id": "e9703e76",
   "metadata": {},
   "source": [
    "Q.14 Write a program to check if a year is leap year or not.\n",
    "If a year is divisible by 4 then it is leap year but if the year is century year like 2000, 1900, 2100 then it must be divisible by 400."
   ]
  },
  {
   "cell_type": "code",
   "execution_count": 1,
   "id": "23bde265",
   "metadata": {},
   "outputs": [
    {
     "name": "stdout",
     "output_type": "stream",
     "text": [
      "Enter a year: 2000\n",
      "2000 is a leap year.\n"
     ]
    }
   ],
   "source": [
    "# Get user input for the year\n",
    "year = int(input(\"Enter a year: \"))\n",
    "\n",
    "# Check if the year is a leap year\n",
    "if (year % 4 == 0 and year % 100 != 0) or (year % 400 == 0):\n",
    "    print(f\"{year} is a leap year.\")\n",
    "else:\n",
    "    print(f\"{year} is not a leap year.\")\n"
   ]
  },
  {
   "cell_type": "markdown",
   "id": "3ae05655",
   "metadata": {},
   "source": [
    "Q.15 Ask user to enter age, gender ( M or F ), marital status ( Y or N ) and then using following rules print their place of service.\n",
    "if employee is female, then she will work only in urban areas.\n",
    "if employee is a male and age is in between 20 to 40 then he may work in anywhere\n",
    "if employee is male and age is in between 40 t0 60 then he will work in urban areas only.\n",
    "And any other input of age should print \"ERROR"
   ]
  },
  {
   "cell_type": "code",
   "execution_count": 1,
   "id": "6d00d45f",
   "metadata": {},
   "outputs": [
    {
     "name": "stdout",
     "output_type": "stream",
     "text": [
      "Enter your age: 35\n",
      "Enter your gender (M or F): M\n",
      "Enter your marital status (Y or N): N\n",
      "You may work anywhere.\n"
     ]
    }
   ],
   "source": [
    "# Get user input for age, gender, and marital status\n",
    "age = int(input(\"Enter your age: \"))\n",
    "gender = input(\"Enter your gender (M or F): \").upper()\n",
    "marital_status = input(\"Enter your marital status (Y or N): \").upper()\n",
    "\n",
    "# Determine the place of service based on the provided rules\n",
    "if gender == 'F':\n",
    "    print(\"You will work in urban areas.\")\n",
    "elif gender == 'M' and 20 <= age <= 40:\n",
    "    print(\"You may work anywhere.\")\n",
    "elif gender == 'M' and 40 <= age <= 60:\n",
    "    print(\"You will work in urban areas only.\")\n",
    "else:\n",
    "    print(\"ERROR: Invalid input or age out of specified range.\")\n"
   ]
  },
  {
   "cell_type": "markdown",
   "id": "c245e44e",
   "metadata": {},
   "source": [
    "Q.16 Write a program to calculate the electricity bill (accept number of unit from user) according to the following criteria : Unit Price\n",
    "uptp 100 units no charge Next 200 units Rs 5 per unit After 200 units Rs 10 per unit (For example if input unit is 350 than total bill amount is\n",
    "Rs.3500 (For example if input unit is 97 than total bill amount is Rs.0 (For example if input unit is 150 than total bill amount is Rs.750"
   ]
  },
  {
   "cell_type": "code",
   "execution_count": 4,
   "id": "218f9be0",
   "metadata": {},
   "outputs": [
    {
     "name": "stdout",
     "output_type": "stream",
     "text": [
      "Enter the number of units consumed: 433\n",
      "The total electricity bill amount is Rs.2330\n"
     ]
    }
   ],
   "source": [
    "# Get user input for the number of units\n",
    "units = int(input(\"Enter the number of units consumed: \"))\n",
    "\n",
    "# Initialize variables for unit prices\n",
    "price_up_to_100 = 0\n",
    "price_next_200 = 5\n",
    "price_above_200 = 10\n",
    "\n",
    "# Calculate the electricity bill based on the given criteria\n",
    "if units <= 100:\n",
    "    total_bill = price_up_to_100 * units\n",
    "elif units <= 300:\n",
    "    total_bill = price_up_to_100 * 100 + price_next_200 * (units - 100)\n",
    "else:\n",
    "    total_bill = price_up_to_100 * 100 + price_next_200 * 200 + price_above_200 * (units - 300)\n",
    "\n",
    "# Print the total bill amount\n",
    "print(f\"The total electricity bill amount is Rs.{total_bill}\")\n"
   ]
  },
  {
   "cell_type": "markdown",
   "id": "8279ea37",
   "metadata": {},
   "source": [
    "Q.17 Take input of age of 3 people by user and determine oldest and youngest among them."
   ]
  },
  {
   "cell_type": "code",
   "execution_count": 5,
   "id": "5732cf16",
   "metadata": {},
   "outputs": [
    {
     "name": "stdout",
     "output_type": "stream",
     "text": [
      "Enter the age of person 1: 18\n",
      "Enter the age of person 2: 23\n",
      "Enter the age of person 3: 45\n",
      "The oldest person is 45 years old.\n",
      "The youngest person is 18 years old.\n"
     ]
    }
   ],
   "source": [
    "# Get user input for the ages of three people\n",
    "age1 = int(input(\"Enter the age of person 1: \"))\n",
    "age2 = int(input(\"Enter the age of person 2: \"))\n",
    "age3 = int(input(\"Enter the age of person 3: \"))\n",
    "\n",
    "# Determine the oldest and youngest among them\n",
    "oldest = max(age1, age2, age3)\n",
    "youngest = min(age1, age2, age3)\n",
    "\n",
    "# Print the results\n",
    "print(f\"The oldest person is {oldest} years old.\")\n",
    "print(f\"The youngest person is {youngest} years old.\")\n"
   ]
  }
 ],
 "metadata": {
  "kernelspec": {
   "display_name": "Python 3 (ipykernel)",
   "language": "python",
   "name": "python3"
  },
  "language_info": {
   "codemirror_mode": {
    "name": "ipython",
    "version": 3
   },
   "file_extension": ".py",
   "mimetype": "text/x-python",
   "name": "python",
   "nbconvert_exporter": "python",
   "pygments_lexer": "ipython3",
   "version": "3.11.5"
  }
 },
 "nbformat": 4,
 "nbformat_minor": 5
}
